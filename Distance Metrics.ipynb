{
 "cells": [
  {
   "cell_type": "markdown",
   "metadata": {},
   "source": [
    "## Euclidean Distance"
   ]
  },
  {
   "cell_type": "code",
   "execution_count": 10,
   "metadata": {},
   "outputs": [],
   "source": [
    "import numpy as np\n",
    "import math\n",
    "from scipy.spatial import distance"
   ]
  },
  {
   "cell_type": "code",
   "execution_count": 19,
   "metadata": {},
   "outputs": [],
   "source": [
    "def euclidean(a,b)->float:\n",
    "    distance = 0\n",
    "    for index, feature in enumerate(a):\n",
    "        d =(feature - b[index])**2\n",
    "        distance = distance + d\n",
    "        \n",
    "    return np.sqrt(distance)    "
   ]
  },
  {
   "cell_type": "code",
   "execution_count": 20,
   "metadata": {},
   "outputs": [],
   "source": [
    "# Our observations\n",
    "a = np.array((1.1, 2.2, 3.3))\n",
    "b = np.array((4.4, 5.5, 6.6))"
   ]
  },
  {
   "cell_type": "code",
   "execution_count": 21,
   "metadata": {},
   "outputs": [],
   "source": [
    "numpy_dist = np.linalg.norm(a-b)\n",
    "function_dist = euclidean(a,b)\n",
    "scipy_dist = distance.euclidean(a, b)"
   ]
  },
  {
   "cell_type": "code",
   "execution_count": 22,
   "metadata": {},
   "outputs": [
    {
     "name": "stdout",
     "output_type": "stream",
     "text": [
      "5.715767664977295\n",
      "5.715767664977295\n",
      "5.715767664977295\n"
     ]
    }
   ],
   "source": [
    "print(numpy_dist)\n",
    "print(function_dist)\n",
    "print(scipy_dist)"
   ]
  },
  {
   "cell_type": "markdown",
   "metadata": {},
   "source": [
    "## Manhattan Distance"
   ]
  },
  {
   "cell_type": "code",
   "execution_count": 25,
   "metadata": {},
   "outputs": [],
   "source": [
    "def manhattan(a,b)->int:\n",
    "    distance = 0\n",
    "    for index, feature in enumerate(a):\n",
    "        d =np.abs(feature - b[index])\n",
    "        distance = distance + d\n",
    "        \n",
    "    return distance   "
   ]
  },
  {
   "cell_type": "code",
   "execution_count": 26,
   "metadata": {},
   "outputs": [],
   "source": [
    "# Our observations\n",
    "a = np.array((1, 2, 3))\n",
    "b = np.array((4, 5, 6))\n",
    "manhattan_dist = manhattan(a,b)"
   ]
  },
  {
   "cell_type": "code",
   "execution_count": 27,
   "metadata": {},
   "outputs": [
    {
     "name": "stdout",
     "output_type": "stream",
     "text": [
      "9\n"
     ]
    }
   ],
   "source": [
    "print(manhattan_dist)"
   ]
  },
  {
   "cell_type": "markdown",
   "metadata": {},
   "source": [
    "# Minkowski Distance"
   ]
  },
  {
   "cell_type": "code",
   "execution_count": 11,
   "metadata": {},
   "outputs": [],
   "source": [
    "# import math library \n",
    "import math\n",
    "import numpy as np\n",
    "from decimal import Decimal "
   ]
  },
  {
   "cell_type": "code",
   "execution_count": 2,
   "metadata": {},
   "outputs": [],
   "source": [
    "# Calculate the p root of a certain numeric value  \n",
    "def p_root(value, root): \n",
    "      \n",
    "    root_value = 1 / float(root) \n",
    "    return round (Decimal(value) **\n",
    "             Decimal(root_value), 3)"
   ]
  },
  {
   "cell_type": "code",
   "execution_count": 6,
   "metadata": {},
   "outputs": [
    {
     "name": "stdout",
     "output_type": "stream",
     "text": [
      "1.732\n",
      "2.000\n"
     ]
    }
   ],
   "source": [
    "squared_root_3 = p_root(3,2)\n",
    "print(squared_root_3)\n",
    "squared_root_4 = p_root(4,2)\n",
    "print(squared_root_4)"
   ]
  },
  {
   "cell_type": "code",
   "execution_count": 8,
   "metadata": {},
   "outputs": [],
   "source": [
    "# Function implementing the Minkowski distance\n",
    "def minkowski_distance(x, y, p): \n",
    "      \n",
    "    # pass the p_root function to calculate \n",
    "    # all the value of vector parallely  \n",
    "    return (p_root(sum(pow(abs(a-b), p) \n",
    "            for a, b in zip(x, y)), p)) "
   ]
  },
  {
   "cell_type": "code",
   "execution_count": 12,
   "metadata": {},
   "outputs": [],
   "source": [
    "# Our observations\n",
    "a = np.array((1.1, 2.2, 3.3))\n",
    "b = np.array((4.4, 5.5, 6.6))"
   ]
  },
  {
   "cell_type": "code",
   "execution_count": 13,
   "metadata": {},
   "outputs": [
    {
     "name": "stdout",
     "output_type": "stream",
     "text": [
      "Manhattan Distance (p = 1)\n",
      "9.900\n",
      "Euclidean Distance (p = 2)\n",
      "5.716\n",
      "Intermidiate norm Distance (p = 1.5)\n",
      "6.864\n"
     ]
    }
   ],
   "source": [
    "# Calculate Manhattan Distance\n",
    "p = 1\n",
    "print(\"Manhattan Distance (p = 1)\")\n",
    "print(minkowski_distance(a, b, p))\n",
    "# Calculate Euclidean Distance\n",
    "p = 2\n",
    "print(\"Euclidean Distance (p = 2)\")\n",
    "print(minkowski_distance(a, b, p)) \n",
    "# Calculate intermediate norm distance\n",
    "p = 1.5\n",
    "print(\"Intermidiate norm Distance (p = 1.5)\")\n",
    "print(minkowski_distance(a, b, p)) "
   ]
  },
  {
   "cell_type": "code",
   "execution_count": 14,
   "metadata": {},
   "outputs": [
    {
     "name": "stdout",
     "output_type": "stream",
     "text": [
      "Manhattan Distance (p = 1)\n",
      "9.899999999999999\n",
      "Euclidean Distance (p = 2)\n",
      "5.715767664977295\n",
      "Intermidiate norm Distance (p = 1.5)\n",
      "6.864276616071283\n"
     ]
    }
   ],
   "source": [
    "from scipy.spatial import distance\n",
    "# Calculate Manhattan Distance\n",
    "p = 1\n",
    "print(\"Manhattan Distance (p = 1)\")\n",
    "print(distance.minkowski(a, b, p))\n",
    "# Calculate Euclidean Distance\n",
    "p = 2\n",
    "print(\"Euclidean Distance (p = 2)\")\n",
    "print(distance.minkowski(a, b, p))\n",
    "# Calculate intermediate norm distance\n",
    "p = 1.5\n",
    "print(\"Intermidiate norm Distance (p = 1.5)\")\n",
    "print(distance.minkowski(a, b, p))"
   ]
  },
  {
   "cell_type": "markdown",
   "metadata": {},
   "source": [
    "# Hamming Distance"
   ]
  },
  {
   "cell_type": "code",
   "execution_count": 15,
   "metadata": {},
   "outputs": [],
   "source": [
    "a = np.array((1, 0, 1, 0, 0, 1, 0))\n",
    "b = np.array((0, 0, 1, 1,0 , 0, 1))"
   ]
  },
  {
   "cell_type": "code",
   "execution_count": 21,
   "metadata": {},
   "outputs": [
    {
     "name": "stdout",
     "output_type": "stream",
     "text": [
      "4\n"
     ]
    }
   ],
   "source": [
    "hamming_distance = np.bitwise_xor(a,b).sum()\n",
    "print(hamming_distance)"
   ]
  },
  {
   "cell_type": "code",
   "execution_count": 22,
   "metadata": {},
   "outputs": [
    {
     "data": {
      "text/plain": [
       "0.5714285714285714"
      ]
     },
     "execution_count": 22,
     "metadata": {},
     "output_type": "execute_result"
    }
   ],
   "source": [
    "distance.hamming(a,b)"
   ]
  },
  {
   "cell_type": "code",
   "execution_count": 24,
   "metadata": {},
   "outputs": [
    {
     "name": "stdout",
     "output_type": "stream",
     "text": [
      "0.5714285714285714\n"
     ]
    }
   ],
   "source": [
    "# Our Data points with binary features\n",
    "a = np.array((1, 0, 1, 0, 0, 1, 0))\n",
    "b = np.array((0, 0, 1, 1,0 , 0, 1))\n",
    "# Calculating the Hamming Distance using XOR and sum\n",
    "hamming_distance = np.bitwise_xor(a,b).sum()/len(a)\n",
    "print(hamming_distance) # 4"
   ]
  },
  {
   "cell_type": "code",
   "execution_count": 25,
   "metadata": {},
   "outputs": [
    {
     "data": {
      "text/plain": [
       "0.5714285714285714"
      ]
     },
     "execution_count": 25,
     "metadata": {},
     "output_type": "execute_result"
    }
   ],
   "source": [
    "distance.hamming(a,b)"
   ]
  },
  {
   "cell_type": "code",
   "execution_count": null,
   "metadata": {},
   "outputs": [],
   "source": []
  }
 ],
 "metadata": {
  "kernelspec": {
   "display_name": "Python 3",
   "language": "python",
   "name": "python3"
  },
  "language_info": {
   "codemirror_mode": {
    "name": "ipython",
    "version": 3
   },
   "file_extension": ".py",
   "mimetype": "text/x-python",
   "name": "python",
   "nbconvert_exporter": "python",
   "pygments_lexer": "ipython3",
   "version": "3.7.1"
  }
 },
 "nbformat": 4,
 "nbformat_minor": 2
}
